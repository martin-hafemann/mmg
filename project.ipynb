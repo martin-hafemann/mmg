{
 "cells": [
  {
   "cell_type": "code",
   "execution_count": 82,
   "metadata": {},
   "outputs": [],
   "source": [
    "import pandas as pd\n",
    "import numpy as np\n",
    "import pypsa\n",
    "import matplotlib.pyplot as plt\n",
    "%matplotlib inline"
   ]
  },
  {
   "cell_type": "code",
   "execution_count": 83,
   "metadata": {},
   "outputs": [],
   "source": [
    "network = pypsa.Network()\n",
    "\n",
    "network.set_snapshots(range(4))"
   ]
  },
  {
   "cell_type": "code",
   "execution_count": 84,
   "metadata": {},
   "outputs": [
    {
     "name": "stdout",
     "output_type": "stream",
     "text": [
      "PyPSA Network\n",
      "Components:\n",
      " - Bus: 1\n",
      " - Carrier: 1\n",
      " - Generator: 2\n",
      " - Load: 1\n",
      "Snapshots: 4\n"
     ]
    }
   ],
   "source": [
    "network.add('Carrier', 'gas', co2_emissions=0.2)\n",
    "network.add('Bus', name='electricity')\n",
    "network.add('Generator',\n",
    "            name='turbine_1',\n",
    "            bus='electricity',\n",
    "            p_nom=500,\n",
    "            marginal_cost=20,\n",
    "            carrier='gas',\n",
    "            ramp_limit_up=0.5,\n",
    "            ramp_limit_down=0.5,\n",
    "            efficiency=0.4\n",
    "            )\n",
    "network.add('Generator',\n",
    "            name='grid',\n",
    "            bus='electricity',\n",
    "            p_nom=1000,\n",
    "            marginal_cost=100)\n",
    "network.add('Load', name='electric_load', bus='electricity', p_set=[500, 400, 750, 100])\n",
    "\n",
    "print(network)"
   ]
  },
  {
   "cell_type": "code",
   "execution_count": 85,
   "metadata": {},
   "outputs": [
    {
     "name": "stderr",
     "output_type": "stream",
     "text": [
      "INFO:linopy.model: Solve problem using Gurobi solver\n",
      "INFO:linopy.model:Solver options:\n",
      " - OutputFlag: 0\n"
     ]
    },
    {
     "name": "stdout",
     "output_type": "stream",
     "text": [
      "Set parameter Username\n"
     ]
    },
    {
     "name": "stderr",
     "output_type": "stream",
     "text": [
      "INFO:gurobipy:Set parameter Username\n"
     ]
    },
    {
     "name": "stdout",
     "output_type": "stream",
     "text": [
      "Academic license - for non-commercial use only - expires 2025-04-24\n"
     ]
    },
    {
     "name": "stderr",
     "output_type": "stream",
     "text": [
      "INFO:gurobipy:Academic license - for non-commercial use only - expires 2025-04-24\n",
      "INFO:linopy.io: Writing time: 0.03s\n"
     ]
    },
    {
     "name": "stdout",
     "output_type": "stream",
     "text": [
      "Read LP format model from file C:\\Users\\mhafeman\\AppData\\Local\\Temp\\linopy-problem-nugoeoc3.lp\n"
     ]
    },
    {
     "name": "stderr",
     "output_type": "stream",
     "text": [
      "INFO:gurobipy:Read LP format model from file C:\\Users\\mhafeman\\AppData\\Local\\Temp\\linopy-problem-nugoeoc3.lp\n"
     ]
    },
    {
     "name": "stdout",
     "output_type": "stream",
     "text": [
      "Reading time = 0.01 seconds\n"
     ]
    },
    {
     "name": "stderr",
     "output_type": "stream",
     "text": [
      "INFO:gurobipy:Reading time = 0.01 seconds\n"
     ]
    },
    {
     "name": "stdout",
     "output_type": "stream",
     "text": [
      "obj: 26 rows, 8 columns, 36 nonzeros\n"
     ]
    },
    {
     "name": "stderr",
     "output_type": "stream",
     "text": [
      "INFO:gurobipy:obj: 26 rows, 8 columns, 36 nonzeros\n",
      "INFO:linopy.constants: Optimization successful: \n",
      "Status: ok\n",
      "Termination condition: optimal\n",
      "Solution: 8 primals, 26 duals\n",
      "Objective: 6.70e+04\n",
      "Solver model: available\n",
      "Solver message: 2\n",
      "\n",
      "INFO:pypsa.optimization.optimize:The shadow-prices of the constraints Generator-fix-p-lower, Generator-fix-p-upper, Generator-fix-p-ramp_limit_up, Generator-fix-p-ramp_limit_down were not assigned to the network.\n"
     ]
    },
    {
     "data": {
      "text/plain": [
       "('ok', 'optimal')"
      ]
     },
     "execution_count": 85,
     "metadata": {},
     "output_type": "execute_result"
    }
   ],
   "source": [
    "network.optimize(solver_name='gurobi', solver_options={'OutputFlag': 0})"
   ]
  },
  {
   "cell_type": "code",
   "execution_count": 86,
   "metadata": {},
   "outputs": [
    {
     "name": "stdout",
     "output_type": "stream",
     "text": [
      "Bus       electricity\n",
      "snapshot             \n",
      "0                 0.0\n",
      "1                 0.0\n",
      "2                 0.0\n",
      "3                 0.0\n",
      "Generator  turbine_1   grid\n",
      "snapshot                   \n",
      "0              500.0    0.0\n",
      "1              400.0    0.0\n",
      "2              350.0  400.0\n",
      "3              100.0    0.0\n",
      "Load      electric_load\n",
      "snapshot               \n",
      "0                 500.0\n",
      "1                 400.0\n",
      "2                 750.0\n",
      "3                 100.0\n"
     ]
    }
   ],
   "source": [
    "print(network.buses_t.p)\n",
    "print(network.generators_t.p)\n",
    "print(network.loads_t.p)"
   ]
  },
  {
   "cell_type": "code",
   "execution_count": 87,
   "metadata": {},
   "outputs": [
    {
     "data": {
      "image/png": "[encoded data removed]",
      "text/plain": [
       "<Figure size 640x480 with 1 Axes>"
      ]
     },
     "metadata": {},
     "output_type": "display_data"
    }
   ],
   "source": [
    "idx = network.generators_t.p.index\n",
    "values = {'turbine_1': network.generators_t.p['turbine_1'].values,\n",
    "          'grid': network.generators_t.p['grid'].values}\n",
    "\n",
    "bottom = np.zeros(len(idx))\n",
    "\n",
    "fig, ax = plt.subplots()\n",
    "\n",
    "for _, value in values.items():\n",
    "    ax.bar(idx, value, width=0.5, bottom=bottom)\n",
    "    bottom += value\n",
    "\n",
    "ax.plot(network.loads_t.p.index, network.loads_t.p['electric_load'], 'r')\n",
    "\n",
    "ax.set_xticks(network.generators_t.p.index)\n",
    "fig.tight_layout()"
   ]
  },
  {
   "cell_type": "code",
   "execution_count": 88,
   "metadata": {},
   "outputs": [
    {
     "name": "stdout",
     "output_type": "stream",
     "text": [
      "<bound method Series.items of snapshot\n",
      "0    500.0\n",
      "1    400.0\n",
      "2    350.0\n",
      "3    100.0\n",
      "Name: turbine_1, dtype: float64>\n"
     ]
    }
   ],
   "source": [
    "print(network.generators_t.p['turbine_1'].items)"
   ]
  },
  {
   "cell_type": "code",
   "execution_count": 89,
   "metadata": {},
   "outputs": [
    {
     "name": "stdout",
     "output_type": "stream",
     "text": [
      "67000.0\n"
     ]
    }
   ],
   "source": [
    "print(network.objective)"
   ]
  },
  {
   "cell_type": "code",
   "execution_count": null,
   "metadata": {},
   "outputs": [],
   "source": []
  }
 ],
 "metadata": {
  "kernelspec": {
   "display_name": ".venv",
   "language": "python",
   "name": "python3"
  },
  "language_info": {
   "codemirror_mode": {
    "name": "ipython",
    "version": 3
   },
   "file_extension": ".py",
   "mimetype": "text/x-python",
   "name": "python",
   "nbconvert_exporter": "python",
   "pygments_lexer": "ipython3",
   "version": "3.10.5"
  }
 },
 "nbformat": 4,
 "nbformat_minor": 2
}
